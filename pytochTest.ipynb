{
  "nbformat": 4,
  "nbformat_minor": 0,
  "metadata": {
    "colab": {
      "provenance": [],
      "gpuType": "T4",
      "authorship_tag": "ABX9TyPld1+0cTCukJQaXrSn2SGl",
      "include_colab_link": true
    },
    "kernelspec": {
      "name": "python3",
      "display_name": "Python 3"
    },
    "language_info": {
      "name": "python"
    },
    "accelerator": "GPU"
  },
  "cells": [
    {
      "cell_type": "markdown",
      "metadata": {
        "id": "view-in-github",
        "colab_type": "text"
      },
      "source": [
        "<a href=\"https://colab.research.google.com/github/jhtpo1230/AI/blob/main/pytochTest.ipynb\" target=\"_parent\"><img src=\"https://colab.research.google.com/assets/colab-badge.svg\" alt=\"Open In Colab\"/></a>"
      ]
    },
    {
      "cell_type": "code",
      "source": [
        "import torchvision.datasets as datasets\n",
        "import torchvision.transforms as transforms\n",
        "from torch.utils.data import DataLoader\n",
        "import torch\n",
        "import matplotlib.pyplot as plt\n",
        "\n",
        "mnist_train = datasets.MNIST(root='MNIST_data/',\n",
        "                             train=True,\n",
        "                             transform=transforms.ToTensor(),\n",
        "                             download=True)\n",
        "mnist_test = datasets.MNIST(root='MNIST_data/',\n",
        "                             train=False,\n",
        "                             transform=transforms.ToTensor(),\n",
        "                             download=True)\n",
        "\n",
        "BATSIZE = 10000\n",
        "\n",
        "train_loader = DataLoader(dataset=mnist_train,\n",
        "                          batch_size=BATSIZE,\n",
        "                          shuffle=True,\n",
        "                          num_workers=0)\n",
        "test_loader = DataLoader(dataset=mnist_test,\n",
        "                          batch_size=len(mnist_test),\n",
        "                          shuffle=False,\n",
        "                          num_workers=0)\n",
        "\n",
        "device = 'cuda' if torch.cuda.is_available() else 'cpu'"
      ],
      "metadata": {
        "id": "SqRBv-udE5Ya"
      },
      "execution_count": 12,
      "outputs": []
    },
    {
      "cell_type": "markdown",
      "source": [
        "**데이터셋 및 변환 설정:**\n",
        "\n",
        "datasets.MNIST를 사용하여 MNIST 데이터셋을 로드합니다.\n",
        "\n",
        "root: 데이터셋이 저장될 경로입니다.\n",
        "\n",
        "train=True: 훈련 데이터셋을 로드합니다. False로 설정하면 테스트 데이터셋을 로드합니다.\n",
        "\n",
        "transform=transforms.ToTensor(): 이미지를 PyTorch 텐서로 변환합니다.\n",
        "\n",
        "download=True: 데이터셋이 없으면 인터넷에서 다운로드합니다.\n",
        "\n",
        "**데이터로더 설정:**\n",
        "\n",
        "DataLoader를 사용하여 데이터를 미니배치로 나누고 섞어서 모델에 공급합니다.\n",
        "\n",
        "batch_size: 각 미니배치의 크기입니다.\n",
        "\n",
        "shuffle=True: 에폭마다 데이터를 섞어 훈련을 다양화시킵니다.\n",
        "\n",
        "num_workers=0: 데이터 로딩을 병렬로 수행할 작업자(worker) 수입니다.\n",
        "\n",
        "**GPU 사용 여부 확인:**\n",
        "\n",
        "torch.cuda.is_available()를 사용하여 GPU가 사용 가능한지 확인하고, 그에 따라 device를 설정합니다."
      ],
      "metadata": {
        "id": "i4ywvl0NOoGI"
      }
    },
    {
      "cell_type": "code",
      "source": [
        "class Net(torch.nn.Module):\n",
        "  def __init__(self):\n",
        "    super(Net, self).__init__()\n",
        "    self.fc1 = torch.nn.Linear(784, 1024)\n",
        "    self.fc2 = torch.nn.Linear(1024, 512)\n",
        "    self.fc3 = torch.nn.Linear(512, 256)\n",
        "    self.fc4 = torch.nn.Linear(256, 128)\n",
        "    self.fc5 = torch.nn.Linear(128, 10)\n",
        "    self.relu = torch.nn.ReLU()\n",
        "\n",
        "  def forward(self, x):\n",
        "      x = x.view(-1, 784)\n",
        "      x = self.relu(self.fc1(x))\n",
        "      x = self.relu(self.fc2(x))\n",
        "      x = self.relu(self.fc3(x))\n",
        "      x = self.relu(self.fc4(x))\n",
        "      z = self.fc5(x)\n",
        "      return z\n",
        "\n",
        "net = Net().to(device)\n",
        "cel = torch.nn.CrossEntropyLoss()\n",
        "optimizer = torch.optim.Adam(net.parameters(), lr = 0.01)\n",
        "\n",
        "EPOCHS = 10\n",
        "for epoch in range(EPOCHS):\n",
        "  l_sum = 0\n",
        "\n",
        "  for batch_idx, (x,y) in enumerate(train_loader):\n",
        "    x, y = x.to(device), y.to(device)\n",
        "    z = net(x)\n",
        "    loss = cel(z, y)\n",
        "\n",
        "    optimizer.zero_grad()\n",
        "    loss.backward()\n",
        "    optimizer.step()\n",
        "    l_sum += loss.item()\n",
        "\n",
        "  print(f'Epoch : {epoch+1:3d} / {EPOCHS}',\n",
        "        f'Loss: {l_sum:0.6f}')"
      ],
      "metadata": {
        "colab": {
          "base_uri": "https://localhost:8080/"
        },
        "id": "YET_G8zJHNJj",
        "outputId": "0d8f99b2-a303-4a52-ff3c-a4ebdc9db1c8"
      },
      "execution_count": 9,
      "outputs": [
        {
          "output_type": "stream",
          "name": "stdout",
          "text": [
            "Epoch :   1 / 10 Loss: 14.010098\n",
            "Epoch :   2 / 10 Loss: 8.188321\n",
            "Epoch :   3 / 10 Loss: 4.299323\n",
            "Epoch :   4 / 10 Loss: 2.590834\n",
            "Epoch :   5 / 10 Loss: 1.799208\n",
            "Epoch :   6 / 10 Loss: 1.328401\n",
            "Epoch :   7 / 10 Loss: 1.033114\n",
            "Epoch :   8 / 10 Loss: 0.817957\n",
            "Epoch :   9 / 10 Loss: 0.668356\n",
            "Epoch :  10 / 10 Loss: 0.546014\n"
          ]
        }
      ]
    },
    {
      "cell_type": "markdown",
      "source": [
        "**신경망 정의:**\n",
        "\n",
        "Net 클래스는 PyTorch의 torch.nn.Module을 상속합니다.\n",
        "\n",
        "__init__ 메서드에서는 다섯 개의 선형 레이어(torch.nn.Linear)와 활성화 함수로 ReLU(torch.nn.ReLU())를 정의합니다.\n",
        "\n",
        "**self.fc1(x)** - 첫 번째 선형 레이어: 입력 x가 첫 번째 선형 레이어 self.fc1을 통과하면 가중치와 편향에 대한 연산이 이루어집니다.\n",
        "\n",
        "이 연산은 입력과 가중치 행렬을 행렬 곱셈하고 편향을 더하는 선형 연산을 수행합니다.\n",
        "\n",
        "**self.relu(...) - ReLU 활성화 함수**: 선형 연산의 결과는 ReLU 활성화 함수에 전달됩니다. ReLU는 입력이 양수일 경우 그 값을 그대로 반환하고, 음수일 경우 0으로 변환하는 함수입니다.\n",
        "\n",
        "\n",
        "**Forward 메서드:**\n",
        "\n",
        "forward 메서드에서는 데이터의 흐름을 정의합니다. 입력 데이터는 x.view(-1, 784)를 통해 평평한 형태로 변환되고, 각 레이어를 통과하며 연산이 수행됩니다.\n",
        "\n",
        "**모델 인스턴스 생성 및 손실 함수, 옵티마이저 정의:**\n",
        "\n",
        "Net()을 호출하여 모델 인스턴스를 생성하고, GPU 또는 CPU에 모델을 올립니다.\n",
        "\n",
        "손실 함수로는 크로스 엔트로피 손실(torch.nn.CrossEntropyLoss())을 사용하고, 옵티마이저는 Adam 옵티마이저(torch.optim.Adam)를 사용합니다.\n",
        "\n",
        "**훈련 루프:**\n",
        "\n",
        "주어진 에폭(EPOCHS) 동안 훈련을 반복합니다.\n",
        "\n",
        "각 미니배치에 대해 순전파, 손실 계산, 역전파, 그리고 옵티마이저 업데이트가 수행됩니다.\n",
        "\n",
        "\n",
        "**순전파 (Forward Pass):**\n",
        "\n",
        "x, y = x.to(device), y.to(device): 입력 데이터 x와 정답 레이블 y를 GPU 또는 CPU로 옮깁니다.\n",
        "\n",
        "z = net(x): 입력 데이터를 모델에 전달하여 예측값 z를 얻습니다. 이 부분이 순전파의 일부입니다.\n",
        "\n",
        "**손실 계산:**\n",
        "\n",
        "loss = cel(z, y): 손실 함수를 사용하여 모델의 예측값 z와 실제 정답 레이블 y 간의 손실을 계산합니다. 이 부분이 손실 계산의 일부입니다.\n",
        "\n",
        "**역전파 (Backward Pass):**\n",
        "\n",
        "optimizer.zero_grad(): 옵티마이저의 그레이디언트를 초기화합니다. 이 부분은 새로운 미니배치에 대한 역전파를 시작하기 전에 필요합니다.\n",
        "\n",
        "loss.backward(): 손실에 대한 역전파를 수행하여 모델 파라미터에 대한 그레이디언트를 계산합니다. 이 부분이 역전파의 일부입니다.\n",
        "\n",
        "**최적화 (Optimizer Step):**\n",
        "\n",
        "optimizer.step(): 옵티마이저를 사용하여 모델의 파라미터를 업데이트합니다. 이 부분이 최적화의 일부입니다."
      ],
      "metadata": {
        "id": "5HpOxXurPG1a"
      }
    },
    {
      "cell_type": "code",
      "source": [
        "index = 1234 #0~9999까지의 랜덤 그림\n",
        "\n",
        "net.eval()\n",
        "x = mnist_test[index][0].view(28, 28).to(device)\n",
        "y = mnist_test[index][1]\n",
        "\n",
        "z = net(x)\n",
        "pred = torch.max(z, 1)[1].item()\n",
        "\n",
        "print(f'Predicted: {pred}')\n",
        "print(f'Label: {y}')\n",
        "\n",
        "plt.imshow(x.cpu(), cmap='Greys')\n",
        "plt.show()"
      ],
      "metadata": {
        "colab": {
          "base_uri": "https://localhost:8080/",
          "height": 466
        },
        "id": "Fr-fMkhfLlyT",
        "outputId": "53ece56e-bd20-41fc-f369-6949d3c8ea7d"
      },
      "execution_count": 10,
      "outputs": [
        {
          "output_type": "stream",
          "name": "stdout",
          "text": [
            "Predicted: 8\n",
            "Label: 8\n"
          ]
        },
        {
          "output_type": "display_data",
          "data": {
            "text/plain": [
              "<Figure size 640x480 with 1 Axes>"
            ],
            "image/png": "[encoded data removed]"
          },
          "metadata": {}
        }
      ]
    }
  ]
}