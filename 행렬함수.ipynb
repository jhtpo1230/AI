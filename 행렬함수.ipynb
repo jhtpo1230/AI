{
  "nbformat": 4,
  "nbformat_minor": 0,
  "metadata": {
    "colab": {
      "provenance": [],
      "authorship_tag": "ABX9TyM5So++ZHfJchHrdEjf9f3C",
      "include_colab_link": true
    },
    "kernelspec": {
      "name": "python3",
      "display_name": "Python 3"
    },
    "language_info": {
      "name": "python"
    }
  },
  "cells": [
    {
      "cell_type": "markdown",
      "metadata": {
        "id": "view-in-github",
        "colab_type": "text"
      },
      "source": [
        "<a href=\"https://colab.research.google.com/github/jhtpo1230/AI/blob/main/%ED%96%89%EB%A0%AC%ED%95%A8%EC%88%98.ipynb\" target=\"_parent\"><img src=\"https://colab.research.google.com/assets/colab-badge.svg\" alt=\"Open In Colab\"/></a>"
      ]
    },
    {
      "cell_type": "code",
      "source": [
        "import torch\n",
        "\n",
        "#차원 생성시 -> torch.zeros(()) or torch.ones"
      ],
      "metadata": {
        "id": "Ay2xpjxJJjbT"
      },
      "execution_count": 2,
      "outputs": []
    },
    {
      "cell_type": "markdown",
      "source": [
        "# **[1] bmm 연산**\n",
        "\n",
        "A = [b= batchSize = 256 ,n=1 ,m=2] -> n과 m은 (n x m) 행렬 Size (ex. [1 2] 는 n은 1, m은 2\n",
        "\n",
        "만약 2x2 행렬이면 n=2, m=2\n",
        "\n",
        "B = [b=256, m=2, p=2]\n",
        "\n",
        "torch.bmm(A,B) = [b=256, n=1, p=2] (A@B 도 같은 방법)"
      ],
      "metadata": {
        "id": "pBcY7Jt8kkRU"
      }
    },
    {
      "cell_type": "code",
      "execution_count": 12,
      "metadata": {
        "colab": {
          "base_uri": "https://localhost:8080/"
        },
        "id": "mpxH9UN3e5Vv",
        "outputId": "ef473c17-a899-4d4c-ef2a-1c87f99833d5"
      },
      "outputs": [
        {
          "output_type": "stream",
          "name": "stdout",
          "text": [
            "C1.shape = torch.Size([256, 5, 7])\n",
            "C1_1.shape = torch.Size([256, 5, 7])\n",
            "\n"
          ]
        }
      ],
      "source": [
        "A1 = torch.zeros((256, 5, 6))\n",
        "B1 = torch.zeros((256, 6, 7))\n",
        "\n",
        "C1 = torch.bmm(A1,B1)\n",
        "C2 = A1 @ B1 # torch.bmm(A,B) = A @ B\n",
        "print(f\"C1.shape = {C1.shape}\")\n",
        "print(f\"C2.shape = {C2.shape}\")"
      ]
    },
    {
      "cell_type": "markdown",
      "source": [
        "# **[2] matmul 연산**\n",
        "\n",
        "A와 B의 batchSize가 같다면 B의 b는 써줄 필요가 없음.\n",
        "\n",
        "즉, A = torch.zeros((256, 5, 6)) / B = torch.zeros((6, 7)) 일 때\n",
        "\n",
        "C = torch.matmul(A,B)"
      ],
      "metadata": {
        "id": "tw4RtxfMfsKl"
      }
    },
    {
      "cell_type": "code",
      "source": [
        "A = torch.zeros((256, 5, 6))\n",
        "B = torch.zeros((6, 7))\n",
        "C = torch.matmul(A, B) # torch.matmul은 batchSize가 동일할 경우 사용 가능\n",
        "\n",
        "print(f\"C.shape = {C.shape}\")"
      ],
      "metadata": {
        "colab": {
          "base_uri": "https://localhost:8080/"
        },
        "id": "V4_jJai-kjUP",
        "outputId": "beabd5ba-e6e0-43a0-b7b1-db73c9362256"
      },
      "execution_count": 14,
      "outputs": [
        {
          "output_type": "stream",
          "name": "stdout",
          "text": [
            "C2.shape = torch.Size([256, 5, 7])\n"
          ]
        }
      ]
    },
    {
      "cell_type": "markdown",
      "source": [
        "# **[3] repeat 연산(복사)**\n",
        "\n",
        "B의 batchSize가 정해지지 않았을 때 repeat를 통해서 batchSize를 복사해줄 수 있음\n",
        "\n",
        "B의 batchSize가 정해지지 않았을 때 B.repeat([256, 1, 1])로 batchSize를 만들어주고,\n",
        "\n",
        "A와 B를 bmm 하면 역시 같은 값을 얻을 수 있음."
      ],
      "metadata": {
        "id": "JUoP5_0FleAO"
      }
    },
    {
      "cell_type": "code",
      "source": [
        "A = torch.zeros((256, 5, 6))\n",
        "B = torch.zeros((6, 7))\n",
        "\n",
        "C1 = A @ B.repeat([256, 1, 1])\n",
        "#C2 = A @ B.repeat([128, 1, 1])\n",
        "print(f\"C1.shape = {C1.shape}\")\n",
        "#print(f\"C2.shape = {C2.shape}\") -> B의 batchSize를 A의 batchSize와 같지 않기 때문에 에러남"
      ],
      "metadata": {
        "colab": {
          "base_uri": "https://localhost:8080/"
        },
        "id": "7_lplwBKkysT",
        "outputId": "b9b180e1-499e-4334-a88d-2fb85e8716fa"
      },
      "execution_count": 18,
      "outputs": [
        {
          "output_type": "stream",
          "name": "stdout",
          "text": [
            "C1.shape = torch.Size([256, 5, 7])\n"
          ]
        }
      ]
    },
    {
      "cell_type": "markdown",
      "source": [
        "# **[4] transpose 차원 수 교환**\n",
        "\n",
        "A = [b, n, m] # A = [0, 1, 2] 일 때\n",
        "\n",
        "A.**transpose**(1,2) = [b, m, n] # A = [0, 2, 1]로 바뀜. 즉, A의 1번째와 2번째 값을 바꾼다는 의미\n",
        "\n",
        "A.transpose(0,1) = [n, b, m]\n",
        "\n",
        "A.transpose(0,2) = [m. n, b]"
      ],
      "metadata": {
        "id": "ysgRMjk3maro"
      }
    },
    {
      "cell_type": "code",
      "source": [
        "A = torch.zeros((256, 6, 5))\n",
        "B = torch.zeros((256, 6, 7))\n",
        "\n",
        "C = A.transpose(1, 2) @ B\n",
        "\n",
        "print(f\"Before A's Shape = {A.shape}\\n\")\n",
        "print(f\"C's Shape = {C.shape}\\n\")\n",
        "A = A.transpose(1, 2)\n",
        "print(f\"After A's Shape = {A.shape}\")"
      ],
      "metadata": {
        "colab": {
          "base_uri": "https://localhost:8080/"
        },
        "id": "3YcOA0nImN94",
        "outputId": "66eb37b4-6a5b-41aa-9a0f-bd3287b1930e"
      },
      "execution_count": 7,
      "outputs": [
        {
          "output_type": "stream",
          "name": "stdout",
          "text": [
            "Before A's Shape = torch.Size([256, 6, 5])\n",
            "\n",
            "C's Shape = torch.Size([256, 5, 7])\n",
            "\n",
            "After A's Shape = torch.Size([256, 5, 6])\n"
          ]
        }
      ]
    },
    {
      "cell_type": "markdown",
      "source": [
        "# **[5] view 차원 재구조화**\n",
        "\n",
        "A = [b, n, m]\n",
        "\n",
        "A.**view**(n, m, -1) = [n, m ,b] 를 할 경우 view 함수는 A의 남는 차원에 알아서 값을 넣어줌. 즉, b에 1이 들어감.\n",
        "\n",
        "A = [b, n]를 가지고 [b, 1, n] , [b, n, 1]를 만들어 주려면\n",
        "\n",
        "A.view(b, -1, n) -> [b, 1, n]\n",
        "\n",
        "A.view(b, n, -1) -> [b, n, 1]"
      ],
      "metadata": {
        "id": "Aa1ccIkmLAh9"
      }
    },
    {
      "cell_type": "code",
      "source": [
        "A = torch.zeros((256, 10)) #A의 inner product, 내적을 batch마다 한 번에 계산할 경우\n",
        "\n",
        "#내적하기 위해선 1개 : [1,10] x [10,1] = [1,1]\n",
        "B = A.view(256, -1, 10)\n",
        "print(f\"B.shape = {B.shape}\")\n",
        "\n",
        "C = B @ A.view(256, 10, -1)\n",
        "print(f\"Before C.shape = {C.shape}\")\n",
        "\n",
        "#C.shape = torch.Size([256, 1, 1]) 에서 [1, 1]을 지워주는 방법\n",
        "C = C.view(-1)\n",
        "print(f\"After C.shape = {C.shape}\")"
      ],
      "metadata": {
        "colab": {
          "base_uri": "https://localhost:8080/"
        },
        "id": "FiFwTazPKmlv",
        "outputId": "7fa38151-51ef-4586-92f7-c4ebe06a2435"
      },
      "execution_count": 19,
      "outputs": [
        {
          "output_type": "stream",
          "name": "stdout",
          "text": [
            "B.shape = torch.Size([256, 1, 10])\n",
            "Before C.shape = torch.Size([256, 1, 1])\n",
            "After C.shape = torch.Size([256])\n"
          ]
        }
      ]
    },
    {
      "cell_type": "markdown",
      "source": [
        "# **[6] reshape 차원 재구조화**\n",
        "\n",
        "**reshape**은 view와 마찬가지로 행렬을 재구조화 시켜주는 함수."
      ],
      "metadata": {
        "id": "VT54A3QUN_bm"
      }
    },
    {
      "cell_type": "code",
      "source": [
        "A = torch.zeros((256, 10))\n",
        "\n",
        "C = (A.reshape(256, -1, 10)) @ (A.reshape(256, 10, -1))\n",
        "print(C.shape)\n",
        "\n",
        "D = C.reshape(-1)\n",
        "print(D.shape)"
      ],
      "metadata": {
        "colab": {
          "base_uri": "https://localhost:8080/"
        },
        "id": "Enx5wIEoOMCz",
        "outputId": "7b34cb68-91cf-4e7c-b8c0-8ed1f6d3d346"
      },
      "execution_count": 26,
      "outputs": [
        {
          "output_type": "stream",
          "name": "stdout",
          "text": [
            "torch.Size([256, 1, 1])\n",
            "torch.Size([256])\n"
          ]
        }
      ]
    },
    {
      "cell_type": "markdown",
      "source": [
        "# **[7] squeeze, unsqueeze 가상 차원 생성, 삭제**\n",
        "\n",
        "A = [b, n, m]\n",
        "\n",
        "**unsqueeze**는 가상의 새로운 차원 생성\n",
        "\n",
        "A.unsqueeze(3) -> (b, n, m, 1) #3번째에 새로운 차원 생성\n",
        "\n",
        "A.unsqueeze(1) -> (b, 1, n, m) #1번째에 새로운 차원 생성\n",
        "\n",
        "**squeeze**는 가상의 차원 삭제\n",
        "\n",
        "A.squeeze(0) -> [n, m]"
      ],
      "metadata": {
        "id": "xKwDR9lqO1Ry"
      }
    },
    {
      "cell_type": "code",
      "source": [
        "A = torch.zeros((256, 10))\n",
        "\n",
        "B = A.unsqueeze(1) #[256, 1, 10]\n",
        "print(B.shape)\n",
        "C = A.unsqueeze(2) #[256, 10, 1]\n",
        "print(C.shape)\n",
        "D = (B @ C) #[256, 1, 1]\n",
        "print(D.shape)\n",
        "F = (D).squeeze(1, 2) [256]\n",
        "print(F.shape)"
      ],
      "metadata": {
        "colab": {
          "base_uri": "https://localhost:8080/"
        },
        "id": "jSxTvAj3PVNH",
        "outputId": "5ded1b5c-9177-4e6d-950b-46c18d0e250a"
      },
      "execution_count": 33,
      "outputs": [
        {
          "output_type": "stream",
          "name": "stdout",
          "text": [
            "torch.Size([256, 1, 10])\n",
            "torch.Size([256, 10, 1])\n",
            "torch.Size([256, 1, 1])\n",
            "torch.Size([256])\n"
          ]
        }
      ]
    },
    {
      "cell_type": "markdown",
      "source": [
        "# **[8] vstack, hstack 행렬 쌓기**\n",
        "\n",
        "Vstack은 새로로 쌓기(V = vertical)\n",
        "\n",
        "Hstack은 가로로 쌓기(H = horizontal)\n",
        "\n",
        "A = [b, n, m]\n",
        "\n",
        "B = [b, n, m]\n",
        "\n",
        "torch.vstack([A, B]) -> [2b, n ,m]\n",
        "\n",
        "torch.hstack([A, B]) -> [b, 2n ,m]"
      ],
      "metadata": {
        "id": "CIlpwhALQg41"
      }
    },
    {
      "cell_type": "code",
      "source": [
        "A = torch.zeros((256, 7, 5))\n",
        "B = torch.zeros((256, 7, 5))\n",
        "\n",
        "C = torch.vstack([A,B])\n",
        "print(C.shape)\n",
        "\n",
        "D = torch.hstack([A,B])\n",
        "print(D.shape)"
      ],
      "metadata": {
        "colab": {
          "base_uri": "https://localhost:8080/"
        },
        "id": "FrQt49ZyRUbq",
        "outputId": "808a9fba-2916-4125-fde1-7ca0c2390e6d"
      },
      "execution_count": 35,
      "outputs": [
        {
          "output_type": "stream",
          "name": "stdout",
          "text": [
            "torch.Size([512, 7, 5])\n",
            "torch.Size([256, 14, 5])\n"
          ]
        }
      ]
    },
    {
      "cell_type": "markdown",
      "source": [
        "# **[9] cat (concatenate) 행렬 쌓기**\n",
        "\n",
        "A = [b, n, m]\n",
        "\n",
        "B = [b, n, m]\n",
        "\n",
        "torch.cat([A, B], 0) -> [2b, n ,m]\n",
        "\n",
        "torch.cat([A, B], 1) -> [b, 2n ,m]\n",
        "\n",
        "torch.cat([A, B], 2) -> [b, n ,2m]"
      ],
      "metadata": {
        "id": "pxNzzw47RqiT"
      }
    },
    {
      "cell_type": "code",
      "source": [
        "A = torch.zeros((256, 7, 5))\n",
        "B = torch.zeros((256, 7, 5))\n",
        "\n",
        "C = torch.cat([A,B], 0) # C = [512, 7, 5]\n",
        "print(C.shape)\n",
        "\n",
        "D = torch.cat([A,B], 1) #D = [256, 14, 5]\n",
        "print(D.shape)\n",
        "\n",
        "F = torch.cat([A,B], 2)  #F = [256, 7, 10]\n",
        "print(F.shape)"
      ],
      "metadata": {
        "colab": {
          "base_uri": "https://localhost:8080/"
        },
        "id": "i-eWQm3HR_w5",
        "outputId": "a5db55da-4386-421b-8fe8-4950cc063b54"
      },
      "execution_count": 36,
      "outputs": [
        {
          "output_type": "stream",
          "name": "stdout",
          "text": [
            "torch.Size([512, 7, 5])\n",
            "torch.Size([256, 14, 5])\n",
            "torch.Size([256, 7, 10])\n"
          ]
        }
      ]
    },
    {
      "cell_type": "markdown",
      "source": [
        "# **[10] clone 행렬 복제, 틀 복제**\n",
        "\n",
        "A = [b, n, m, l] 일 때\n",
        "\n",
        "B와 A가 같게 하려면 B = [A.size[0], A.size[1], A.size[2], A.size[3] 로 할 수도 있지만 우리는 A가 몇 차원 행렬일지 모를 때도 있음.\n",
        "\n",
        "따라서 이럴때는 clon() 함수를 써주면 됨."
      ],
      "metadata": {
        "id": "cVAyUnYiVhMf"
      }
    },
    {
      "cell_type": "code",
      "source": [
        "A = torch.zeros((256, 5, 6, 7))\n",
        "B = A.clone()\n",
        "\n",
        "print(A.shape)\n",
        "print(B.shape) # B = A.clone = torch.zeros((256, 5, 6, 7))"
      ],
      "metadata": {
        "colab": {
          "base_uri": "https://localhost:8080/"
        },
        "id": "izHrkhjbWFxV",
        "outputId": "1cd3a158-d5c8-40f4-bb97-21d77a67f29c"
      },
      "execution_count": 38,
      "outputs": [
        {
          "output_type": "stream",
          "name": "stdout",
          "text": [
            "torch.Size([256, 5, 6, 7])\n",
            "torch.Size([256, 5, 6, 7])\n"
          ]
        }
      ]
    }
  ]
}